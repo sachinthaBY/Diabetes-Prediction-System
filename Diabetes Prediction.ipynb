{
 "cells": [
  {
   "cell_type": "code",
   "execution_count": 1,
   "id": "107f4d09",
   "metadata": {},
   "outputs": [],
   "source": [
    "import pandas as pd"
   ]
  },
  {
   "cell_type": "code",
   "execution_count": 2,
   "id": "5e961f72",
   "metadata": {},
   "outputs": [],
   "source": [
    "data = pd.read_csv('ragama_diabetic_data_set.csv')"
   ]
  },
  {
   "cell_type": "code",
   "execution_count": 3,
   "id": "c6690457",
   "metadata": {},
   "outputs": [
    {
     "data": {
      "text/html": [
       "<div>\n",
       "<style scoped>\n",
       "    .dataframe tbody tr th:only-of-type {\n",
       "        vertical-align: middle;\n",
       "    }\n",
       "\n",
       "    .dataframe tbody tr th {\n",
       "        vertical-align: top;\n",
       "    }\n",
       "\n",
       "    .dataframe thead th {\n",
       "        text-align: right;\n",
       "    }\n",
       "</style>\n",
       "<table border=\"1\" class=\"dataframe\">\n",
       "  <thead>\n",
       "    <tr style=\"text-align: right;\">\n",
       "      <th></th>\n",
       "      <th>Age</th>\n",
       "      <th>BMI</th>\n",
       "      <th>Blood_Pressure(Systolic)</th>\n",
       "      <th>Blood_Pressure(Diastolic)</th>\n",
       "      <th>Fasting_Blood_Sugar</th>\n",
       "      <th>Insulin_Dose(g)</th>\n",
       "      <th>Cholesterol</th>\n",
       "      <th>Kidny_Function(s Creatinine)</th>\n",
       "      <th>Kidny_Function(eGFR)</th>\n",
       "      <th>Liver_Function(ALT)</th>\n",
       "      <th>Pregnancy</th>\n",
       "      <th>Outcome</th>\n",
       "    </tr>\n",
       "  </thead>\n",
       "  <tbody>\n",
       "    <tr>\n",
       "      <th>0</th>\n",
       "      <td>50</td>\n",
       "      <td>28</td>\n",
       "      <td>110</td>\n",
       "      <td>70</td>\n",
       "      <td>140.0</td>\n",
       "      <td>0.5</td>\n",
       "      <td>240.0</td>\n",
       "      <td>0.83</td>\n",
       "      <td>77.980</td>\n",
       "      <td>22.0</td>\n",
       "      <td>3</td>\n",
       "      <td>1</td>\n",
       "    </tr>\n",
       "    <tr>\n",
       "      <th>1</th>\n",
       "      <td>44</td>\n",
       "      <td>26</td>\n",
       "      <td>120</td>\n",
       "      <td>80</td>\n",
       "      <td>131.0</td>\n",
       "      <td>1.0</td>\n",
       "      <td>175.0</td>\n",
       "      <td>0.90</td>\n",
       "      <td>76.815</td>\n",
       "      <td>28.0</td>\n",
       "      <td>0</td>\n",
       "      <td>1</td>\n",
       "    </tr>\n",
       "    <tr>\n",
       "      <th>2</th>\n",
       "      <td>61</td>\n",
       "      <td>26</td>\n",
       "      <td>120</td>\n",
       "      <td>80</td>\n",
       "      <td>107.0</td>\n",
       "      <td>1.0</td>\n",
       "      <td>175.0</td>\n",
       "      <td>0.90</td>\n",
       "      <td>76.815</td>\n",
       "      <td>28.0</td>\n",
       "      <td>5</td>\n",
       "      <td>1</td>\n",
       "    </tr>\n",
       "    <tr>\n",
       "      <th>3</th>\n",
       "      <td>48</td>\n",
       "      <td>26</td>\n",
       "      <td>120</td>\n",
       "      <td>80</td>\n",
       "      <td>151.0</td>\n",
       "      <td>1.0</td>\n",
       "      <td>175.0</td>\n",
       "      <td>0.90</td>\n",
       "      <td>76.815</td>\n",
       "      <td>28.0</td>\n",
       "      <td>4</td>\n",
       "      <td>1</td>\n",
       "    </tr>\n",
       "    <tr>\n",
       "      <th>4</th>\n",
       "      <td>58</td>\n",
       "      <td>26</td>\n",
       "      <td>140</td>\n",
       "      <td>80</td>\n",
       "      <td>87.0</td>\n",
       "      <td>0.5</td>\n",
       "      <td>127.0</td>\n",
       "      <td>79.00</td>\n",
       "      <td>0.530</td>\n",
       "      <td>52.0</td>\n",
       "      <td>0</td>\n",
       "      <td>1</td>\n",
       "    </tr>\n",
       "  </tbody>\n",
       "</table>\n",
       "</div>"
      ],
      "text/plain": [
       "   Age  BMI  Blood_Pressure(Systolic)  Blood_Pressure(Diastolic)  \\\n",
       "0   50   28                       110                         70   \n",
       "1   44   26                       120                         80   \n",
       "2   61   26                       120                         80   \n",
       "3   48   26                       120                         80   \n",
       "4   58   26                       140                         80   \n",
       "\n",
       "   Fasting_Blood_Sugar  Insulin_Dose(g)  Cholesterol  \\\n",
       "0                140.0              0.5        240.0   \n",
       "1                131.0              1.0        175.0   \n",
       "2                107.0              1.0        175.0   \n",
       "3                151.0              1.0        175.0   \n",
       "4                 87.0              0.5        127.0   \n",
       "\n",
       "   Kidny_Function(s Creatinine)  Kidny_Function(eGFR)  Liver_Function(ALT)  \\\n",
       "0                          0.83                77.980                 22.0   \n",
       "1                          0.90                76.815                 28.0   \n",
       "2                          0.90                76.815                 28.0   \n",
       "3                          0.90                76.815                 28.0   \n",
       "4                         79.00                 0.530                 52.0   \n",
       "\n",
       "   Pregnancy  Outcome  \n",
       "0          3        1  \n",
       "1          0        1  \n",
       "2          5        1  \n",
       "3          4        1  \n",
       "4          0        1  "
      ]
     },
     "execution_count": 3,
     "metadata": {},
     "output_type": "execute_result"
    }
   ],
   "source": [
    "data.head()"
   ]
  },
  {
   "cell_type": "code",
   "execution_count": 4,
   "id": "1fece5bd",
   "metadata": {},
   "outputs": [
    {
     "data": {
      "text/html": [
       "<div>\n",
       "<style scoped>\n",
       "    .dataframe tbody tr th:only-of-type {\n",
       "        vertical-align: middle;\n",
       "    }\n",
       "\n",
       "    .dataframe tbody tr th {\n",
       "        vertical-align: top;\n",
       "    }\n",
       "\n",
       "    .dataframe thead th {\n",
       "        text-align: right;\n",
       "    }\n",
       "</style>\n",
       "<table border=\"1\" class=\"dataframe\">\n",
       "  <thead>\n",
       "    <tr style=\"text-align: right;\">\n",
       "      <th></th>\n",
       "      <th>Age</th>\n",
       "      <th>BMI</th>\n",
       "      <th>Blood_Pressure(Systolic)</th>\n",
       "      <th>Blood_Pressure(Diastolic)</th>\n",
       "      <th>Fasting_Blood_Sugar</th>\n",
       "      <th>Insulin_Dose(g)</th>\n",
       "      <th>Cholesterol</th>\n",
       "      <th>Kidny_Function(s Creatinine)</th>\n",
       "      <th>Kidny_Function(eGFR)</th>\n",
       "      <th>Liver_Function(ALT)</th>\n",
       "      <th>Pregnancy</th>\n",
       "      <th>Outcome</th>\n",
       "    </tr>\n",
       "  </thead>\n",
       "  <tbody>\n",
       "    <tr>\n",
       "      <th>4086</th>\n",
       "      <td>63</td>\n",
       "      <td>33</td>\n",
       "      <td>120</td>\n",
       "      <td>70</td>\n",
       "      <td>101.0</td>\n",
       "      <td>0.180000</td>\n",
       "      <td>175.0</td>\n",
       "      <td>0.9</td>\n",
       "      <td>76.815</td>\n",
       "      <td>28.0</td>\n",
       "      <td>10</td>\n",
       "      <td>0</td>\n",
       "    </tr>\n",
       "    <tr>\n",
       "      <th>4087</th>\n",
       "      <td>27</td>\n",
       "      <td>37</td>\n",
       "      <td>120</td>\n",
       "      <td>70</td>\n",
       "      <td>122.0</td>\n",
       "      <td>0.961738</td>\n",
       "      <td>175.0</td>\n",
       "      <td>0.9</td>\n",
       "      <td>76.815</td>\n",
       "      <td>28.0</td>\n",
       "      <td>2</td>\n",
       "      <td>0</td>\n",
       "    </tr>\n",
       "    <tr>\n",
       "      <th>4088</th>\n",
       "      <td>30</td>\n",
       "      <td>26</td>\n",
       "      <td>120</td>\n",
       "      <td>70</td>\n",
       "      <td>121.0</td>\n",
       "      <td>0.112000</td>\n",
       "      <td>175.0</td>\n",
       "      <td>0.9</td>\n",
       "      <td>76.815</td>\n",
       "      <td>28.0</td>\n",
       "      <td>5</td>\n",
       "      <td>0</td>\n",
       "    </tr>\n",
       "    <tr>\n",
       "      <th>4089</th>\n",
       "      <td>47</td>\n",
       "      <td>30</td>\n",
       "      <td>110</td>\n",
       "      <td>60</td>\n",
       "      <td>126.0</td>\n",
       "      <td>0.961738</td>\n",
       "      <td>175.0</td>\n",
       "      <td>0.9</td>\n",
       "      <td>76.815</td>\n",
       "      <td>28.0</td>\n",
       "      <td>1</td>\n",
       "      <td>1</td>\n",
       "    </tr>\n",
       "    <tr>\n",
       "      <th>4090</th>\n",
       "      <td>23</td>\n",
       "      <td>30</td>\n",
       "      <td>120</td>\n",
       "      <td>70</td>\n",
       "      <td>93.0</td>\n",
       "      <td>0.961738</td>\n",
       "      <td>175.0</td>\n",
       "      <td>0.9</td>\n",
       "      <td>76.815</td>\n",
       "      <td>28.0</td>\n",
       "      <td>1</td>\n",
       "      <td>0</td>\n",
       "    </tr>\n",
       "  </tbody>\n",
       "</table>\n",
       "</div>"
      ],
      "text/plain": [
       "      Age  BMI  Blood_Pressure(Systolic)  Blood_Pressure(Diastolic)  \\\n",
       "4086   63   33                       120                         70   \n",
       "4087   27   37                       120                         70   \n",
       "4088   30   26                       120                         70   \n",
       "4089   47   30                       110                         60   \n",
       "4090   23   30                       120                         70   \n",
       "\n",
       "      Fasting_Blood_Sugar  Insulin_Dose(g)  Cholesterol  \\\n",
       "4086                101.0         0.180000        175.0   \n",
       "4087                122.0         0.961738        175.0   \n",
       "4088                121.0         0.112000        175.0   \n",
       "4089                126.0         0.961738        175.0   \n",
       "4090                 93.0         0.961738        175.0   \n",
       "\n",
       "      Kidny_Function(s Creatinine)  Kidny_Function(eGFR)  Liver_Function(ALT)  \\\n",
       "4086                           0.9                76.815                 28.0   \n",
       "4087                           0.9                76.815                 28.0   \n",
       "4088                           0.9                76.815                 28.0   \n",
       "4089                           0.9                76.815                 28.0   \n",
       "4090                           0.9                76.815                 28.0   \n",
       "\n",
       "      Pregnancy  Outcome  \n",
       "4086         10        0  \n",
       "4087          2        0  \n",
       "4088          5        0  \n",
       "4089          1        1  \n",
       "4090          1        0  "
      ]
     },
     "execution_count": 4,
     "metadata": {},
     "output_type": "execute_result"
    }
   ],
   "source": [
    "data.tail()"
   ]
  },
  {
   "cell_type": "code",
   "execution_count": 5,
   "id": "76c682dc",
   "metadata": {},
   "outputs": [
    {
     "data": {
      "text/plain": [
       "(4091, 12)"
      ]
     },
     "execution_count": 5,
     "metadata": {},
     "output_type": "execute_result"
    }
   ],
   "source": [
    "data.shape"
   ]
  },
  {
   "cell_type": "code",
   "execution_count": 6,
   "id": "6c96e919",
   "metadata": {},
   "outputs": [
    {
     "name": "stdout",
     "output_type": "stream",
     "text": [
      "Number of Rows 4091\n",
      "Number of Columns 12\n"
     ]
    }
   ],
   "source": [
    "print(\"Number of Rows\",data.shape[0])\n",
    "print(\"Number of Columns\",data.shape[1])"
   ]
  },
  {
   "cell_type": "code",
   "execution_count": 7,
   "id": "9eba1fae",
   "metadata": {},
   "outputs": [
    {
     "name": "stdout",
     "output_type": "stream",
     "text": [
      "<class 'pandas.core.frame.DataFrame'>\n",
      "RangeIndex: 4091 entries, 0 to 4090\n",
      "Data columns (total 12 columns):\n",
      " #   Column                        Non-Null Count  Dtype  \n",
      "---  ------                        --------------  -----  \n",
      " 0   Age                           4091 non-null   int64  \n",
      " 1   BMI                           4091 non-null   int64  \n",
      " 2   Blood_Pressure(Systolic)      4091 non-null   int64  \n",
      " 3   Blood_Pressure(Diastolic)     4091 non-null   int64  \n",
      " 4   Fasting_Blood_Sugar           4091 non-null   float64\n",
      " 5   Insulin_Dose(g)               4091 non-null   float64\n",
      " 6   Cholesterol                   4091 non-null   float64\n",
      " 7   Kidny_Function(s Creatinine)  4091 non-null   float64\n",
      " 8   Kidny_Function(eGFR)          4091 non-null   float64\n",
      " 9   Liver_Function(ALT)           4091 non-null   float64\n",
      " 10  Pregnancy                     4091 non-null   int64  \n",
      " 11  Outcome                       4091 non-null   int64  \n",
      "dtypes: float64(6), int64(6)\n",
      "memory usage: 383.7 KB\n"
     ]
    }
   ],
   "source": [
    "data.info()"
   ]
  },
  {
   "cell_type": "code",
   "execution_count": 8,
   "id": "a62f0299",
   "metadata": {},
   "outputs": [
    {
     "data": {
      "text/plain": [
       "Age                             0\n",
       "BMI                             0\n",
       "Blood_Pressure(Systolic)        0\n",
       "Blood_Pressure(Diastolic)       0\n",
       "Fasting_Blood_Sugar             0\n",
       "Insulin_Dose(g)                 0\n",
       "Cholesterol                     0\n",
       "Kidny_Function(s Creatinine)    0\n",
       "Kidny_Function(eGFR)            0\n",
       "Liver_Function(ALT)             0\n",
       "Pregnancy                       0\n",
       "Outcome                         0\n",
       "dtype: int64"
      ]
     },
     "execution_count": 8,
     "metadata": {},
     "output_type": "execute_result"
    }
   ],
   "source": [
    "data.isnull().sum()"
   ]
  },
  {
   "cell_type": "code",
   "execution_count": 9,
   "id": "1482f565",
   "metadata": {},
   "outputs": [
    {
     "data": {
      "text/html": [
       "<div>\n",
       "<style scoped>\n",
       "    .dataframe tbody tr th:only-of-type {\n",
       "        vertical-align: middle;\n",
       "    }\n",
       "\n",
       "    .dataframe tbody tr th {\n",
       "        vertical-align: top;\n",
       "    }\n",
       "\n",
       "    .dataframe thead th {\n",
       "        text-align: right;\n",
       "    }\n",
       "</style>\n",
       "<table border=\"1\" class=\"dataframe\">\n",
       "  <thead>\n",
       "    <tr style=\"text-align: right;\">\n",
       "      <th></th>\n",
       "      <th>Age</th>\n",
       "      <th>BMI</th>\n",
       "      <th>Blood_Pressure(Systolic)</th>\n",
       "      <th>Blood_Pressure(Diastolic)</th>\n",
       "      <th>Fasting_Blood_Sugar</th>\n",
       "      <th>Insulin_Dose(g)</th>\n",
       "      <th>Cholesterol</th>\n",
       "      <th>Kidny_Function(s Creatinine)</th>\n",
       "      <th>Kidny_Function(eGFR)</th>\n",
       "      <th>Liver_Function(ALT)</th>\n",
       "      <th>Pregnancy</th>\n",
       "      <th>Outcome</th>\n",
       "    </tr>\n",
       "  </thead>\n",
       "  <tbody>\n",
       "    <tr>\n",
       "      <th>count</th>\n",
       "      <td>4091.000000</td>\n",
       "      <td>4091.000000</td>\n",
       "      <td>4091.000000</td>\n",
       "      <td>4091.000000</td>\n",
       "      <td>4091.000000</td>\n",
       "      <td>4091.000000</td>\n",
       "      <td>4091.000000</td>\n",
       "      <td>4091.000000</td>\n",
       "      <td>4091.000000</td>\n",
       "      <td>4091.000000</td>\n",
       "      <td>4091.000000</td>\n",
       "      <td>4091.000000</td>\n",
       "    </tr>\n",
       "    <tr>\n",
       "      <th>mean</th>\n",
       "      <td>51.849426</td>\n",
       "      <td>27.237595</td>\n",
       "      <td>126.438524</td>\n",
       "      <td>78.675874</td>\n",
       "      <td>151.905252</td>\n",
       "      <td>0.961738</td>\n",
       "      <td>188.381198</td>\n",
       "      <td>10.999099</td>\n",
       "      <td>80.658754</td>\n",
       "      <td>31.831608</td>\n",
       "      <td>1.831093</td>\n",
       "      <td>0.877780</td>\n",
       "    </tr>\n",
       "    <tr>\n",
       "      <th>std</th>\n",
       "      <td>14.955494</td>\n",
       "      <td>10.814744</td>\n",
       "      <td>28.078040</td>\n",
       "      <td>12.915147</td>\n",
       "      <td>63.907719</td>\n",
       "      <td>5.251627</td>\n",
       "      <td>478.546182</td>\n",
       "      <td>37.563262</td>\n",
       "      <td>352.926086</td>\n",
       "      <td>20.773898</td>\n",
       "      <td>2.281867</td>\n",
       "      <td>0.327579</td>\n",
       "    </tr>\n",
       "    <tr>\n",
       "      <th>min</th>\n",
       "      <td>8.000000</td>\n",
       "      <td>13.000000</td>\n",
       "      <td>55.000000</td>\n",
       "      <td>20.000000</td>\n",
       "      <td>0.500000</td>\n",
       "      <td>0.001000</td>\n",
       "      <td>0.270000</td>\n",
       "      <td>0.010000</td>\n",
       "      <td>0.040000</td>\n",
       "      <td>0.340000</td>\n",
       "      <td>0.000000</td>\n",
       "      <td>0.000000</td>\n",
       "    </tr>\n",
       "    <tr>\n",
       "      <th>25%</th>\n",
       "      <td>42.000000</td>\n",
       "      <td>25.000000</td>\n",
       "      <td>120.000000</td>\n",
       "      <td>73.000000</td>\n",
       "      <td>109.000000</td>\n",
       "      <td>0.500000</td>\n",
       "      <td>175.000000</td>\n",
       "      <td>0.900000</td>\n",
       "      <td>76.815000</td>\n",
       "      <td>28.000000</td>\n",
       "      <td>0.000000</td>\n",
       "      <td>1.000000</td>\n",
       "    </tr>\n",
       "    <tr>\n",
       "      <th>50%</th>\n",
       "      <td>54.000000</td>\n",
       "      <td>26.000000</td>\n",
       "      <td>120.000000</td>\n",
       "      <td>80.000000</td>\n",
       "      <td>137.000000</td>\n",
       "      <td>1.000000</td>\n",
       "      <td>175.000000</td>\n",
       "      <td>0.900000</td>\n",
       "      <td>76.815000</td>\n",
       "      <td>28.000000</td>\n",
       "      <td>1.000000</td>\n",
       "      <td>1.000000</td>\n",
       "    </tr>\n",
       "    <tr>\n",
       "      <th>75%</th>\n",
       "      <td>63.000000</td>\n",
       "      <td>27.000000</td>\n",
       "      <td>130.000000</td>\n",
       "      <td>80.000000</td>\n",
       "      <td>176.000000</td>\n",
       "      <td>1.000000</td>\n",
       "      <td>175.000000</td>\n",
       "      <td>0.900000</td>\n",
       "      <td>76.815000</td>\n",
       "      <td>28.000000</td>\n",
       "      <td>2.000000</td>\n",
       "      <td>1.000000</td>\n",
       "    </tr>\n",
       "    <tr>\n",
       "      <th>max</th>\n",
       "      <td>154.000000</td>\n",
       "      <td>539.000000</td>\n",
       "      <td>1233.000000</td>\n",
       "      <td>491.000000</td>\n",
       "      <td>1150.000000</td>\n",
       "      <td>249.000000</td>\n",
       "      <td>29027.000000</td>\n",
       "      <td>1468.100000</td>\n",
       "      <td>16949.790000</td>\n",
       "      <td>630.000000</td>\n",
       "      <td>17.000000</td>\n",
       "      <td>1.000000</td>\n",
       "    </tr>\n",
       "  </tbody>\n",
       "</table>\n",
       "</div>"
      ],
      "text/plain": [
       "               Age          BMI  Blood_Pressure(Systolic)  \\\n",
       "count  4091.000000  4091.000000               4091.000000   \n",
       "mean     51.849426    27.237595                126.438524   \n",
       "std      14.955494    10.814744                 28.078040   \n",
       "min       8.000000    13.000000                 55.000000   \n",
       "25%      42.000000    25.000000                120.000000   \n",
       "50%      54.000000    26.000000                120.000000   \n",
       "75%      63.000000    27.000000                130.000000   \n",
       "max     154.000000   539.000000               1233.000000   \n",
       "\n",
       "       Blood_Pressure(Diastolic)  Fasting_Blood_Sugar  Insulin_Dose(g)  \\\n",
       "count                4091.000000          4091.000000      4091.000000   \n",
       "mean                   78.675874           151.905252         0.961738   \n",
       "std                    12.915147            63.907719         5.251627   \n",
       "min                    20.000000             0.500000         0.001000   \n",
       "25%                    73.000000           109.000000         0.500000   \n",
       "50%                    80.000000           137.000000         1.000000   \n",
       "75%                    80.000000           176.000000         1.000000   \n",
       "max                   491.000000          1150.000000       249.000000   \n",
       "\n",
       "        Cholesterol  Kidny_Function(s Creatinine)  Kidny_Function(eGFR)  \\\n",
       "count   4091.000000                   4091.000000           4091.000000   \n",
       "mean     188.381198                     10.999099             80.658754   \n",
       "std      478.546182                     37.563262            352.926086   \n",
       "min        0.270000                      0.010000              0.040000   \n",
       "25%      175.000000                      0.900000             76.815000   \n",
       "50%      175.000000                      0.900000             76.815000   \n",
       "75%      175.000000                      0.900000             76.815000   \n",
       "max    29027.000000                   1468.100000          16949.790000   \n",
       "\n",
       "       Liver_Function(ALT)    Pregnancy      Outcome  \n",
       "count          4091.000000  4091.000000  4091.000000  \n",
       "mean             31.831608     1.831093     0.877780  \n",
       "std              20.773898     2.281867     0.327579  \n",
       "min               0.340000     0.000000     0.000000  \n",
       "25%              28.000000     0.000000     1.000000  \n",
       "50%              28.000000     1.000000     1.000000  \n",
       "75%              28.000000     2.000000     1.000000  \n",
       "max             630.000000    17.000000     1.000000  "
      ]
     },
     "execution_count": 9,
     "metadata": {},
     "output_type": "execute_result"
    }
   ],
   "source": [
    "data.describe()"
   ]
  },
  {
   "cell_type": "code",
   "execution_count": 10,
   "id": "5793d22e",
   "metadata": {},
   "outputs": [],
   "source": [
    "import numpy as np"
   ]
  },
  {
   "cell_type": "code",
   "execution_count": 11,
   "id": "2d3bab63",
   "metadata": {},
   "outputs": [],
   "source": [
    "data_copy = data.copy(deep=True)"
   ]
  },
  {
   "cell_type": "code",
   "execution_count": 12,
   "id": "707817c4",
   "metadata": {},
   "outputs": [
    {
     "data": {
      "text/plain": [
       "Index(['Age', 'BMI', 'Blood_Pressure(Systolic)', 'Blood_Pressure(Diastolic)',\n",
       "       'Fasting_Blood_Sugar', 'Insulin_Dose(g)', 'Cholesterol',\n",
       "       'Kidny_Function(s Creatinine)', 'Kidny_Function(eGFR)',\n",
       "       'Liver_Function(ALT)', 'Pregnancy', 'Outcome'],\n",
       "      dtype='object')"
      ]
     },
     "execution_count": 12,
     "metadata": {},
     "output_type": "execute_result"
    }
   ],
   "source": [
    "data.columns"
   ]
  },
  {
   "cell_type": "code",
   "execution_count": 13,
   "id": "03da1ef6",
   "metadata": {},
   "outputs": [],
   "source": [
    "data_copy[['Pregnancy']] = data_copy[['Pregnancy']].replace(0,np.nan)"
   ]
  },
  {
   "cell_type": "code",
   "execution_count": 14,
   "id": "51203b6f",
   "metadata": {},
   "outputs": [
    {
     "data": {
      "text/plain": [
       "Age                                0\n",
       "BMI                                0\n",
       "Blood_Pressure(Systolic)           0\n",
       "Blood_Pressure(Diastolic)          0\n",
       "Fasting_Blood_Sugar                0\n",
       "Insulin_Dose(g)                    0\n",
       "Cholesterol                        0\n",
       "Kidny_Function(s Creatinine)       0\n",
       "Kidny_Function(eGFR)               0\n",
       "Liver_Function(ALT)                0\n",
       "Pregnancy                       1453\n",
       "Outcome                            0\n",
       "dtype: int64"
      ]
     },
     "execution_count": 14,
     "metadata": {},
     "output_type": "execute_result"
    }
   ],
   "source": [
    "data_copy.isnull().sum()"
   ]
  },
  {
   "cell_type": "code",
   "execution_count": 15,
   "id": "412b381e",
   "metadata": {},
   "outputs": [],
   "source": [
    "data['Pregnancy'] = data['Pregnancy'].replace(0,data['Pregnancy'].mean())"
   ]
  },
  {
   "cell_type": "code",
   "execution_count": 16,
   "id": "a13ba5b8",
   "metadata": {},
   "outputs": [],
   "source": [
    "X = data.drop('Outcome',axis=1)\n",
    "y = data['Outcome']"
   ]
  },
  {
   "cell_type": "code",
   "execution_count": 17,
   "id": "d252840a",
   "metadata": {},
   "outputs": [],
   "source": [
    "from sklearn.model_selection import train_test_split\n",
    "X_train,X_test,y_train,y_test=train_test_split(X,y,test_size=0.20,\n",
    "                                               random_state=42)"
   ]
  },
  {
   "cell_type": "code",
   "execution_count": 18,
   "id": "262c9c73",
   "metadata": {},
   "outputs": [],
   "source": [
    "from sklearn.preprocessing import StandardScaler\n",
    "from sklearn.linear_model import LogisticRegression\n",
    "from sklearn.neighbors import KNeighborsClassifier\n",
    "from sklearn.svm import SVC\n",
    "\n",
    "from sklearn.tree import DecisionTreeClassifier\n",
    "from sklearn.ensemble import RandomForestClassifier\n",
    "from sklearn.ensemble import GradientBoostingClassifier\n",
    "\n",
    "from sklearn.pipeline import Pipeline"
   ]
  },
  {
   "cell_type": "code",
   "execution_count": 19,
   "id": "6c83acab",
   "metadata": {},
   "outputs": [],
   "source": [
    "pipeline_lr  = Pipeline([('scalar1',StandardScaler()),\n",
    "                         ('lr_classifier',LogisticRegression())])\n",
    "\n",
    "pipeline_knn = Pipeline([('scalar2',StandardScaler()),\n",
    "                          ('knn_classifier',KNeighborsClassifier())])\n",
    "\n",
    "pipeline_svc = Pipeline([('scalar3',StandardScaler()),\n",
    "                         ('svc_classifier',SVC())])\n",
    "\n",
    "pipeline_dt = Pipeline([('dt_classifier',DecisionTreeClassifier())])\n",
    "pipeline_rf = Pipeline([('rf_classifier',RandomForestClassifier(max_depth=3))])\n",
    "pipeline_gbc = Pipeline([('gbc_classifier',GradientBoostingClassifier())])"
   ]
  },
  {
   "cell_type": "code",
   "execution_count": 20,
   "id": "3276d12d",
   "metadata": {},
   "outputs": [],
   "source": [
    "pipelines = [pipeline_lr,\n",
    "            pipeline_knn,\n",
    "            pipeline_svc,\n",
    "            pipeline_dt,\n",
    "            pipeline_rf,\n",
    "            pipeline_gbc]"
   ]
  },
  {
   "cell_type": "code",
   "execution_count": 21,
   "id": "3f2673ef",
   "metadata": {},
   "outputs": [
    {
     "data": {
      "text/plain": [
       "[Pipeline(steps=[('scalar1', StandardScaler()),\n",
       "                 ('lr_classifier', LogisticRegression())]),\n",
       " Pipeline(steps=[('scalar2', StandardScaler()),\n",
       "                 ('knn_classifier', KNeighborsClassifier())]),\n",
       " Pipeline(steps=[('scalar3', StandardScaler()), ('svc_classifier', SVC())]),\n",
       " Pipeline(steps=[('dt_classifier', DecisionTreeClassifier())]),\n",
       " Pipeline(steps=[('rf_classifier', RandomForestClassifier(max_depth=3))]),\n",
       " Pipeline(steps=[('gbc_classifier', GradientBoostingClassifier())])]"
      ]
     },
     "execution_count": 21,
     "metadata": {},
     "output_type": "execute_result"
    }
   ],
   "source": [
    "pipelines"
   ]
  },
  {
   "cell_type": "code",
   "execution_count": 22,
   "id": "ef945866",
   "metadata": {},
   "outputs": [],
   "source": [
    "for pipe in pipelines:\n",
    "    pipe.fit(X_train,y_train)"
   ]
  },
  {
   "cell_type": "code",
   "execution_count": 23,
   "id": "7f3fb21c",
   "metadata": {},
   "outputs": [],
   "source": [
    "pipe_dict = {0:'LR',\n",
    "             1:'KNN',\n",
    "             2:'SVC',\n",
    "             3:'DT',\n",
    "             4: 'RF',\n",
    "             5: 'GBC'}"
   ]
  },
  {
   "cell_type": "code",
   "execution_count": 24,
   "id": "89e75ce5",
   "metadata": {},
   "outputs": [
    {
     "data": {
      "text/plain": [
       "{0: 'LR', 1: 'KNN', 2: 'SVC', 3: 'DT', 4: 'RF', 5: 'GBC'}"
      ]
     },
     "execution_count": 24,
     "metadata": {},
     "output_type": "execute_result"
    }
   ],
   "source": [
    "pipe_dict"
   ]
  },
  {
   "cell_type": "code",
   "execution_count": 25,
   "id": "a0afca4e",
   "metadata": {},
   "outputs": [
    {
     "name": "stdout",
     "output_type": "stream",
     "text": [
      "LR Test Accuracy:94.62759462759462\n",
      "KNN Test Accuracy:95.1159951159951\n",
      "SVC Test Accuracy:94.99389499389498\n",
      "DT Test Accuracy:94.26129426129425\n",
      "RF Test Accuracy:93.89499389499389\n",
      "GBC Test Accuracy:95.97069597069597\n"
     ]
    }
   ],
   "source": [
    "for i,model in enumerate(pipelines):\n",
    "    print(\"{} Test Accuracy:{}\".format(pipe_dict[i],model.score(X_test,y_test)*100))"
   ]
  },
  {
   "cell_type": "code",
   "execution_count": 26,
   "id": "0c63e187",
   "metadata": {},
   "outputs": [],
   "source": [
    "from sklearn.ensemble import RandomForestClassifier"
   ]
  },
  {
   "cell_type": "code",
   "execution_count": 27,
   "id": "ccc45b22",
   "metadata": {},
   "outputs": [],
   "source": [
    "X = data.drop('Outcome',axis=1)\n",
    "y = data['Outcome']"
   ]
  },
  {
   "cell_type": "code",
   "execution_count": 28,
   "id": "0b977880",
   "metadata": {},
   "outputs": [],
   "source": [
    "rf =RandomForestClassifier(max_depth=3)"
   ]
  },
  {
   "cell_type": "code",
   "execution_count": 29,
   "id": "cda905a5",
   "metadata": {},
   "outputs": [
    {
     "data": {
      "text/plain": [
       "RandomForestClassifier(max_depth=3)"
      ]
     },
     "execution_count": 29,
     "metadata": {},
     "output_type": "execute_result"
    }
   ],
   "source": [
    "rf.fit(X,y)"
   ]
  },
  {
   "cell_type": "code",
   "execution_count": 30,
   "id": "c59861f1",
   "metadata": {},
   "outputs": [],
   "source": [
    "new_data = pd.DataFrame({\n",
    "    'Age':50,\n",
    "    'BMI':26,\n",
    "    'Blood_Pressure(Systolic)':120,\n",
    "    'Blood_Pressure(Diastolic)':80,\n",
    "    'Fasting_Blood_Sugar':135,\n",
    "    'Insulin_Dose(g)':1,\n",
    "    'Cholesterol':175,\n",
    "    'Kidny_Function(s Creatinine)':1.2,\n",
    "    'Kidny_Function(eGFR)':76.815,\n",
    "    'Liver_Function(ALT)':21,\n",
    "    'Pregnancy':2,\n",
    "},index=[0])"
   ]
  },
  {
   "cell_type": "code",
   "execution_count": 31,
   "id": "b145c7a5",
   "metadata": {},
   "outputs": [],
   "source": [
    "p = rf.predict(new_data)"
   ]
  },
  {
   "cell_type": "code",
   "execution_count": 32,
   "id": "422b17e8",
   "metadata": {},
   "outputs": [
    {
     "name": "stdout",
     "output_type": "stream",
     "text": [
      "diabetic\n"
     ]
    }
   ],
   "source": [
    "if p[0] == 0:\n",
    "    print('non-diabetic')\n",
    "else:\n",
    "    print('diabetic')"
   ]
  },
  {
   "cell_type": "code",
   "execution_count": 33,
   "id": "e0fcc9da",
   "metadata": {},
   "outputs": [],
   "source": [
    "import joblib"
   ]
  },
  {
   "cell_type": "code",
   "execution_count": 34,
   "id": "43e15db6",
   "metadata": {},
   "outputs": [
    {
     "data": {
      "text/plain": [
       "['model_joblib_diabetes']"
      ]
     },
     "execution_count": 34,
     "metadata": {},
     "output_type": "execute_result"
    }
   ],
   "source": [
    "joblib.dump(rf,'model_joblib_diabetes')"
   ]
  },
  {
   "cell_type": "code",
   "execution_count": 35,
   "id": "5f44c9a5",
   "metadata": {},
   "outputs": [],
   "source": [
    "model = joblib.load('model_joblib_diabetes')"
   ]
  },
  {
   "cell_type": "code",
   "execution_count": 36,
   "id": "4bb71e9e",
   "metadata": {},
   "outputs": [
    {
     "data": {
      "text/plain": [
       "array([1], dtype=int64)"
      ]
     },
     "execution_count": 36,
     "metadata": {},
     "output_type": "execute_result"
    }
   ],
   "source": [
    "model.predict(new_data)"
   ]
  },
  {
   "cell_type": "code",
   "execution_count": null,
   "id": "4253067f",
   "metadata": {},
   "outputs": [],
   "source": []
  }
 ],
 "metadata": {
  "kernelspec": {
   "display_name": "Python 3 (ipykernel)",
   "language": "python",
   "name": "python3"
  },
  "language_info": {
   "codemirror_mode": {
    "name": "ipython",
    "version": 3
   },
   "file_extension": ".py",
   "mimetype": "text/x-python",
   "name": "python",
   "nbconvert_exporter": "python",
   "pygments_lexer": "ipython3",
   "version": "3.9.12"
  }
 },
 "nbformat": 4,
 "nbformat_minor": 5
}
